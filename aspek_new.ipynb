{
 "cells": [
  {
   "cell_type": "code",
   "execution_count": 6,
   "id": "7796e098",
   "metadata": {},
   "outputs": [],
   "source": [
    "import pandas as pd\n",
    "from sklearn.model_selection import train_test_split\n",
    "\n",
    "import pandas as pd\n",
    "from gensim.models import Word2Vec #word2vec\n",
    "from sklearn.model_selection import train_test_split #untuk split data\n",
    "from sklearn.linear_model import LogisticRegression\n",
    "from sklearn.metrics import accuracy_score #untuk akurasi\n",
    "from __future__ import division, print_function\n",
    "import nltk\n",
    "from gensim import models"
   ]
  },
  {
   "cell_type": "code",
   "execution_count": 7,
   "id": "b1b3aec9",
   "metadata": {},
   "outputs": [
    {
     "data": {
      "text/html": [
       "<div>\n",
       "<style scoped>\n",
       "    .dataframe tbody tr th:only-of-type {\n",
       "        vertical-align: middle;\n",
       "    }\n",
       "\n",
       "    .dataframe tbody tr th {\n",
       "        vertical-align: top;\n",
       "    }\n",
       "\n",
       "    .dataframe thead th {\n",
       "        text-align: right;\n",
       "    }\n",
       "</style>\n",
       "<table border=\"1\" class=\"dataframe\">\n",
       "  <thead>\n",
       "    <tr style=\"text-align: right;\">\n",
       "      <th></th>\n",
       "      <th>opini</th>\n",
       "      <th>aspek</th>\n",
       "    </tr>\n",
       "  </thead>\n",
       "  <tbody>\n",
       "    <tr>\n",
       "      <th>0</th>\n",
       "      <td>bug tolong baik</td>\n",
       "      <td>0</td>\n",
       "    </tr>\n",
       "    <tr>\n",
       "      <th>1</th>\n",
       "      <td>update</td>\n",
       "      <td>0</td>\n",
       "    </tr>\n",
       "    <tr>\n",
       "      <th>2</th>\n",
       "      <td>pubg banned akun bukti sesal buat sangkut apak...</td>\n",
       "      <td>0</td>\n",
       "    </tr>\n",
       "    <tr>\n",
       "      <th>3</th>\n",
       "      <td>mantap gamenya bagus</td>\n",
       "      <td>1</td>\n",
       "    </tr>\n",
       "    <tr>\n",
       "      <th>4</th>\n",
       "      <td>game anjing gue sudah download habis mb main t...</td>\n",
       "      <td>0</td>\n",
       "    </tr>\n",
       "    <tr>\n",
       "      <th>...</th>\n",
       "      <td>...</td>\n",
       "      <td>...</td>\n",
       "    </tr>\n",
       "    <tr>\n",
       "      <th>2981</th>\n",
       "      <td>bug micbug stepbug suara mobil jelasping turun...</td>\n",
       "      <td>1</td>\n",
       "    </tr>\n",
       "    <tr>\n",
       "      <th>2982</th>\n",
       "      <td>tolong developer baik game alami bug gabisa am...</td>\n",
       "      <td>1</td>\n",
       "    </tr>\n",
       "    <tr>\n",
       "      <th>2983</th>\n",
       "      <td>kesini bug ngerugiin player sekali pas jalan g...</td>\n",
       "      <td>1</td>\n",
       "    </tr>\n",
       "    <tr>\n",
       "      <th>2984</th>\n",
       "      <td>masalah besar simpan data butuh versi gb masuk...</td>\n",
       "      <td>3</td>\n",
       "    </tr>\n",
       "    <tr>\n",
       "      <th>2985</th>\n",
       "      <td>update stuck loading screen doang sinyal sudah...</td>\n",
       "      <td>0</td>\n",
       "    </tr>\n",
       "  </tbody>\n",
       "</table>\n",
       "<p>2986 rows × 2 columns</p>\n",
       "</div>"
      ],
      "text/plain": [
       "                                                  opini  aspek\n",
       "0                                       bug tolong baik      0\n",
       "1                                                update      0\n",
       "2     pubg banned akun bukti sesal buat sangkut apak...      0\n",
       "3                                  mantap gamenya bagus      1\n",
       "4     game anjing gue sudah download habis mb main t...      0\n",
       "...                                                 ...    ...\n",
       "2981  bug micbug stepbug suara mobil jelasping turun...      1\n",
       "2982  tolong developer baik game alami bug gabisa am...      1\n",
       "2983  kesini bug ngerugiin player sekali pas jalan g...      1\n",
       "2984  masalah besar simpan data butuh versi gb masuk...      3\n",
       "2985  update stuck loading screen doang sinyal sudah...      0\n",
       "\n",
       "[2986 rows x 2 columns]"
      ]
     },
     "execution_count": 7,
     "metadata": {},
     "output_type": "execute_result"
    }
   ],
   "source": [
    "data = pd.read_excel(r\"C:\\Users\\user\\Downloads\\ASPEK.xlsx\") #variable data berisikan data pubg\n",
    "data #menampilkan data"
   ]
  },
  {
   "cell_type": "code",
   "execution_count": 8,
   "id": "433e8539",
   "metadata": {},
   "outputs": [],
   "source": [
    "# Bagi dataset menjadi data latih dan data uji\n",
    "train_data, test_data = train_test_split(data, test_size=0.2, random_state=42)"
   ]
  },
  {
   "cell_type": "code",
   "execution_count": 10,
   "id": "9a104ee9",
   "metadata": {},
   "outputs": [],
   "source": [
    "# Ambil kolom teks dan kelas\n",
    "train_texts = train_data['opini'].tolist()\n",
    "train_labels = train_data['aspek'].tolist()\n",
    "test_texts = test_data['opini'].tolist()\n",
    "test_labels = test_data['aspek'].tolist()"
   ]
  },
  {
   "cell_type": "markdown",
   "id": "11f0f411",
   "metadata": {},
   "source": [
    "word2vec"
   ]
  },
  {
   "cell_type": "code",
   "execution_count": 12,
   "id": "098cac89",
   "metadata": {},
   "outputs": [],
   "source": [
    "from gensim.models import Word2Vec\n",
    "from tensorflow.keras.preprocessing.text import Tokenizer\n",
    "from tensorflow.keras.preprocessing.sequence import pad_sequences"
   ]
  },
  {
   "cell_type": "code",
   "execution_count": 14,
   "id": "baf0f645",
   "metadata": {},
   "outputs": [],
   "source": [
    "# Inisialisasi model Word2Vec\n",
    "w2v_model = Word2Vec(train_texts, vector_size=100, min_count=1)"
   ]
  },
  {
   "cell_type": "code",
   "execution_count": 15,
   "id": "ccb5c267",
   "metadata": {},
   "outputs": [],
   "source": [
    "# Tokenisasi teks\n",
    "tokenizer = Tokenizer()\n",
    "tokenizer.fit_on_texts(train_texts)\n",
    "train_sequences = tokenizer.texts_to_sequences(train_texts)\n",
    "test_sequences = tokenizer.texts_to_sequences(test_texts)"
   ]
  },
  {
   "cell_type": "code",
   "execution_count": 16,
   "id": "85552617",
   "metadata": {},
   "outputs": [],
   "source": [
    "# Padding teks ke panjang maksimum\n",
    "max_seq_length = max(len(seq) for seq in train_sequences + test_sequences)\n",
    "train_data = pad_sequences(train_sequences, maxlen=max_seq_length)\n",
    "test_data = pad_sequences(test_sequences, maxlen=max_seq_length)"
   ]
  },
  {
   "cell_type": "markdown",
   "id": "fadcfe0f",
   "metadata": {},
   "source": [
    "membangun model CNN"
   ]
  },
  {
   "cell_type": "code",
   "execution_count": 17,
   "id": "54a87317",
   "metadata": {},
   "outputs": [],
   "source": [
    "from tensorflow.keras.models import Sequential\n",
    "from tensorflow.keras.layers import Embedding, Conv1D, GlobalMaxPooling1D, Dense"
   ]
  },
  {
   "cell_type": "code",
   "execution_count": 19,
   "id": "76710409",
   "metadata": {},
   "outputs": [],
   "source": [
    "vocab_size = len(tokenizer.word_index) + 1\n",
    "embedding_dim = 100"
   ]
  },
  {
   "cell_type": "code",
   "execution_count": 20,
   "id": "c255765e",
   "metadata": {},
   "outputs": [],
   "source": [
    "model = Sequential()\n",
    "model.add(Embedding(vocab_size, embedding_dim, input_length=max_seq_length))\n",
    "model.add(Conv1D(128, 5, activation='relu'))\n",
    "model.add(GlobalMaxPooling1D())\n",
    "model.add(Dense(128, activation='relu'))\n",
    "model.add(Dense(4, activation='softmax'))"
   ]
  },
  {
   "cell_type": "code",
   "execution_count": 21,
   "id": "787cd0f3",
   "metadata": {},
   "outputs": [
    {
     "name": "stdout",
     "output_type": "stream",
     "text": [
      "Model: \"sequential\"\n",
      "_________________________________________________________________\n",
      " Layer (type)                Output Shape              Param #   \n",
      "=================================================================\n",
      " embedding (Embedding)       (None, 55, 100)           357800    \n",
      "                                                                 \n",
      " conv1d (Conv1D)             (None, 51, 128)           64128     \n",
      "                                                                 \n",
      " global_max_pooling1d (Globa  (None, 128)              0         \n",
      " lMaxPooling1D)                                                  \n",
      "                                                                 \n",
      " dense (Dense)               (None, 128)               16512     \n",
      "                                                                 \n",
      " dense_1 (Dense)             (None, 4)                 516       \n",
      "                                                                 \n",
      "=================================================================\n",
      "Total params: 438,956\n",
      "Trainable params: 438,956\n",
      "Non-trainable params: 0\n",
      "_________________________________________________________________\n"
     ]
    }
   ],
   "source": [
    "model.compile(loss='categorical_crossentropy', optimizer='adam', metrics=['accuracy'])\n",
    "model.summary()"
   ]
  },
  {
   "cell_type": "markdown",
   "id": "2aa1e77d",
   "metadata": {},
   "source": [
    "Pelatihan dan Evaluasi Model:"
   ]
  },
  {
   "cell_type": "code",
   "execution_count": 24,
   "id": "b94ffeb4",
   "metadata": {},
   "outputs": [],
   "source": [
    "import numpy as np\n",
    "from sklearn.utils import shuffle\n",
    "from tensorflow.keras.utils import to_categorical"
   ]
  },
  {
   "cell_type": "code",
   "execution_count": 25,
   "id": "3b74d9bf",
   "metadata": {},
   "outputs": [],
   "source": [
    "# Mengacak data latih\n",
    "train_data, train_labels = shuffle(train_data, train_labels)"
   ]
  },
  {
   "cell_type": "code",
   "execution_count": 26,
   "id": "905aef96",
   "metadata": {},
   "outputs": [],
   "source": [
    "# Mengubah label ke dalam bentuk one-hot encoding\n",
    "num_classes = 4\n",
    "train_labels = to_categorical(train_labels, num_classes)\n",
    "test_labels = to_categorical(test_labels, num_classes)"
   ]
  },
  {
   "cell_type": "code",
   "execution_count": 27,
   "id": "095cc3bf",
   "metadata": {},
   "outputs": [],
   "source": [
    "# Pelatihan model\n",
    "batch_size = 64\n",
    "epochs = 10"
   ]
  },
  {
   "cell_type": "code",
   "execution_count": 28,
   "id": "0b4af821",
   "metadata": {},
   "outputs": [
    {
     "name": "stdout",
     "output_type": "stream",
     "text": [
      "Epoch 1/10\n",
      "38/38 [==============================] - 4s 56ms/step - loss: 1.0664 - accuracy: 0.5762 - val_loss: 0.8461 - val_accuracy: 0.6739\n",
      "Epoch 2/10\n",
      "38/38 [==============================] - 2s 45ms/step - loss: 0.6534 - accuracy: 0.7613 - val_loss: 0.5404 - val_accuracy: 0.8227\n",
      "Epoch 3/10\n",
      "38/38 [==============================] - 2s 44ms/step - loss: 0.3807 - accuracy: 0.8773 - val_loss: 0.4764 - val_accuracy: 0.8462\n",
      "Epoch 4/10\n",
      "38/38 [==============================] - 2s 46ms/step - loss: 0.2365 - accuracy: 0.9171 - val_loss: 0.4961 - val_accuracy: 0.8361\n",
      "Epoch 5/10\n",
      "38/38 [==============================] - 2s 44ms/step - loss: 0.1472 - accuracy: 0.9564 - val_loss: 0.5440 - val_accuracy: 0.8294\n",
      "Epoch 6/10\n",
      "38/38 [==============================] - 2s 46ms/step - loss: 0.0841 - accuracy: 0.9845 - val_loss: 0.5987 - val_accuracy: 0.8261\n",
      "Epoch 7/10\n",
      "38/38 [==============================] - 2s 45ms/step - loss: 0.0504 - accuracy: 0.9904 - val_loss: 0.6531 - val_accuracy: 0.8261\n",
      "Epoch 8/10\n",
      "38/38 [==============================] - 2s 43ms/step - loss: 0.0347 - accuracy: 0.9946 - val_loss: 0.6763 - val_accuracy: 0.8144\n",
      "Epoch 9/10\n",
      "38/38 [==============================] - 2s 45ms/step - loss: 0.0265 - accuracy: 0.9966 - val_loss: 0.7618 - val_accuracy: 0.8094\n",
      "Epoch 10/10\n",
      "38/38 [==============================] - 2s 41ms/step - loss: 0.0229 - accuracy: 0.9962 - val_loss: 0.7694 - val_accuracy: 0.8077\n"
     ]
    },
    {
     "data": {
      "text/plain": [
       "<keras.callbacks.History at 0x1e2e20770a0>"
      ]
     },
     "execution_count": 28,
     "metadata": {},
     "output_type": "execute_result"
    }
   ],
   "source": [
    "model.fit(train_data, train_labels, batch_size=batch_size, epochs=epochs, validation_data=(test_data, test_labels))"
   ]
  },
  {
   "cell_type": "code",
   "execution_count": 29,
   "id": "80e51e63",
   "metadata": {},
   "outputs": [
    {
     "name": "stdout",
     "output_type": "stream",
     "text": [
      "19/19 [==============================] - 0s 7ms/step - loss: 0.7694 - accuracy: 0.8077\n",
      "Accuracy: 0.807692289352417\n"
     ]
    }
   ],
   "source": [
    "# Evaluasi model\n",
    "_, accuracy = model.evaluate(test_data, test_labels)\n",
    "print(\"Accuracy:\", accuracy)"
   ]
  },
  {
   "cell_type": "code",
   "execution_count": 31,
   "id": "55c613ac",
   "metadata": {},
   "outputs": [
    {
     "name": "stdout",
     "output_type": "stream",
     "text": [
      "19/19 [==============================] - 0s 10ms/step\n"
     ]
    },
    {
     "data": {
      "image/png": "[encoded data removed]",
      "text/plain": [
       "<Figure size 576x432 with 2 Axes>"
      ]
     },
     "metadata": {
      "needs_background": "light"
     },
     "output_type": "display_data"
    }
   ],
   "source": [
    "import numpy as np\n",
    "from sklearn.metrics import confusion_matrix\n",
    "import seaborn as sns\n",
    "import matplotlib.pyplot as plt\n",
    "\n",
    "# Prediksi label untuk data uji\n",
    "y_pred = np.argmax(model.predict(test_data), axis=1)\n",
    "\n",
    "# Mengubah label yang diharapkan ke bentuk kategori\n",
    "y_true = np.argmax(test_labels, axis=1)\n",
    "\n",
    "# Membuat confusion matrix\n",
    "cm = confusion_matrix(y_true, y_pred)\n",
    "\n",
    "# Menampilkan confusion matrix dalam bentuk heatmap\n",
    "labels = ['Layanan', 'Kualitas', 'Item', 'Campuran']\n",
    "plt.figure(figsize=(8, 6))\n",
    "sns.heatmap(cm, annot=True, fmt='d', cmap='Blues', xticklabels=labels, yticklabels=labels)\n",
    "plt.xlabel('Prediksi')\n",
    "plt.ylabel('Sebenarnya')\n",
    "plt.title('Confusion Matrix')\n",
    "plt.show()\n"
   ]
  },
  {
   "cell_type": "code",
   "execution_count": 33,
   "id": "6a6157aa",
   "metadata": {},
   "outputs": [
    {
     "name": "stdout",
     "output_type": "stream",
     "text": [
      "19/19 [==============================] - 0s 8ms/step\n",
      "              precision    recall  f1-score   support\n",
      "\n",
      "     Layanan       0.69      0.73      0.71       173\n",
      "    Kualitas       0.86      0.88      0.87       353\n",
      "        Item       0.82      0.29      0.43        31\n",
      "   Perangkat       0.88      0.90      0.89        41\n",
      "\n",
      "    accuracy                           0.81       598\n",
      "   macro avg       0.81      0.70      0.72       598\n",
      "weighted avg       0.81      0.81      0.80       598\n",
      "\n"
     ]
    }
   ],
   "source": [
    "from sklearn.metrics import classification_report\n",
    "\n",
    "# Prediksi label untuk data uji\n",
    "y_pred = np.argmax(model.predict(test_data), axis=1)\n",
    "\n",
    "# Mengubah label yang diharapkan ke bentuk kategori\n",
    "y_true = np.argmax(test_labels, axis=1)\n",
    "\n",
    "# Membuat matriks pengujian\n",
    "report = classification_report(y_true, y_pred, target_names=['Layanan', 'Kualitas', 'Item', 'Perangkat'])\n",
    "\n",
    "print(report)\n"
   ]
  },
  {
   "cell_type": "code",
   "execution_count": 35,
   "id": "20f0a469",
   "metadata": {},
   "outputs": [],
   "source": [
    "#simpan model\n",
    "import pickle\n",
    "filename = 'aspek_model.sav'\n",
    "pickle.dump(model, open(filename, 'wb'))"
   ]
  },
  {
   "cell_type": "code",
   "execution_count": 37,
   "id": "98b56556",
   "metadata": {},
   "outputs": [
    {
     "name": "stdout",
     "output_type": "stream",
     "text": [
      "Masukkan teks: game anjing gue sudah download habis mb main tolol\n",
      "1/1 [==============================] - 0s 39ms/step\n",
      "Hasil prediksi:\n",
      "Teks: game anjing gue sudah download habis mb main tolol\n",
      "Sentimen: Layanan\n",
      "Probabilitas: [0.97838277 0.01783258 0.00263466 0.00114999]\n"
     ]
    }
   ],
   "source": [
    "# Fungsi untuk memprediksi sentimen dari input teks\n",
    "def predict_sentiment(text):\n",
    "    # Preprocessing teks input\n",
    "    input_sequence = tokenizer.texts_to_sequences([text])\n",
    "    input_data = pad_sequences(input_sequence, maxlen=max_seq_length)\n",
    "\n",
    "    # Melakukan prediksi sentimen\n",
    "    sentiment_prob = model.predict(input_data)[0]\n",
    "    sentiment_label = np.argmax(sentiment_prob)\n",
    "    sentiment = ['Layanan', 'Kualitas', 'Item', 'Perangkat'][sentiment_label]\n",
    "\n",
    "    # Mengembalikan hasil prediksi\n",
    "    return sentiment, sentiment_prob\n",
    "\n",
    "# Meminta input dari pengguna\n",
    "input_text = input(\"Masukkan teks: \")\n",
    "\n",
    "# Memprediksi sentimen dari input teks\n",
    "predicted_sentiment, sentiment_probabilities = predict_sentiment(input_text)\n",
    "\n",
    "# Menampilkan hasil prediksi\n",
    "print(\"Hasil prediksi:\")\n",
    "print(\"Teks:\", input_text)\n",
    "print(\"Sentimen:\", predicted_sentiment)\n",
    "print(\"Probabilitas:\", sentiment_probabilities)\n"
   ]
  },
  {
   "cell_type": "code",
   "execution_count": null,
   "id": "0cfedacc",
   "metadata": {},
   "outputs": [],
   "source": []
  }
 ],
 "metadata": {
  "kernelspec": {
   "display_name": "Python 3 (ipykernel)",
   "language": "python",
   "name": "python3"
  },
  "language_info": {
   "codemirror_mode": {
    "name": "ipython",
    "version": 3
   },
   "file_extension": ".py",
   "mimetype": "text/x-python",
   "name": "python",
   "nbconvert_exporter": "python",
   "pygments_lexer": "ipython3",
   "version": "3.10.0"
  }
 },
 "nbformat": 4,
 "nbformat_minor": 5
}
